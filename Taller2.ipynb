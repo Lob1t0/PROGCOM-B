{
  "nbformat": 4,
  "nbformat_minor": 0,
  "metadata": {
    "colab": {
      "name": "Taller2.ipynb",
      "provenance": []
    },
    "kernelspec": {
      "name": "python3",
      "display_name": "Python 3"
    },
    "language_info": {
      "name": "python"
    }
  },
  "cells": [
    {
      "cell_type": "markdown",
      "source": [
        "#Taller ciclos para y mientras .\n",
        "##Punto 1\n"
      ],
      "metadata": {
        "id": "cBkuzfRZVWJC"
      }
    },
    {
      "cell_type": "code",
      "source": [
        "n=(int(input(\"ingrese un número para saber si es o no primo: \")))\n",
        "contador=0\n",
        "i=-1\n",
        "while i<(n-1):\n",
        "  i=i+1\n",
        "  divisor= i+1\n",
        "  division= n%divisor\n",
        "  print(division)\n",
        "  if division==0:\n",
        "    contador=contador+1\n",
        "\n",
        "  \n",
        "  \n",
        "  \n",
        "  \n",
        "  \n",
        "if contador<=2:\n",
        "  print(\"El número es primo\")"
      ],
      "metadata": {
        "colab": {
          "base_uri": "https://localhost:8080/"
        },
        "id": "dHMapJKDZB_P",
        "outputId": "bf0fdce1-64cb-45e4-c773-75f724d61df5"
      },
      "execution_count": 30,
      "outputs": [
        {
          "output_type": "stream",
          "name": "stdout",
          "text": [
            "ingrese un número para saber si es o no primo: 6\n",
            "0\n",
            "1\n",
            "0\n",
            "2\n",
            "0\n",
            "3\n",
            "2\n",
            "1\n",
            "0\n",
            "4\n"
          ]
        }
      ]
    },
    {
      "cell_type": "code",
      "execution_count": null,
      "metadata": {
        "id": "xbtUovImUq0E"
      },
      "outputs": [],
      "source": [
        "\n",
        "n=(int(input(\"ingrese un número para saber si es o no primo: \")))\n",
        "contador=0\n",
        "for i in range(0,n):\n",
        "  divisor= i+1\n",
        "  division= n%divisor\n",
        "  print(division)\n",
        "  if division==0:\n",
        "    contador=contador+1\n",
        "  \n",
        "  \n",
        "  \n",
        "  \n",
        "  \n",
        "if contador<=2:\n",
        "  print(\"El número es primo\")\n",
        "  \n"
      ]
    },
    {
      "cell_type": "markdown",
      "source": [
        "#Ejercicio 3"
      ],
      "metadata": {
        "id": "4CLj3m91a4dG"
      }
    },
    {
      "cell_type": "code",
      "source": [
        "n=int(input(\"Ingrese el número: \"))\n",
        "contador=1\n",
        "for i in range(1,n):\n",
        "  resta=n-i\n",
        "  contador=contador*resta\n",
        "  print(contador)\n",
        "\n",
        "factorial=n*contador\n",
        "print(factorial)"
      ],
      "metadata": {
        "id": "9NV-kMsVfA9U"
      },
      "execution_count": null,
      "outputs": []
    },
    {
      "cell_type": "code",
      "source": [
        "n=int(input(\"Ingrese el número: \"))\n",
        "contador=1\n",
        "for i in range(1,n):\n",
        "  resta=n-i\n",
        "  contador=contador*resta\n",
        "  print(contador)\n",
        "\n",
        "factorial=n*contador\n",
        "print(factorial)\n",
        "  \n",
        "\n"
      ],
      "metadata": {
        "colab": {
          "base_uri": "https://localhost:8080/"
        },
        "id": "qNosDZebbRy-",
        "outputId": "7a772064-742c-46ff-c2ce-7023e01c663d"
      },
      "execution_count": 50,
      "outputs": [
        {
          "output_type": "stream",
          "name": "stdout",
          "text": [
            "Ingrese el número: 7\n",
            "6\n",
            "30\n",
            "120\n",
            "360\n",
            "720\n",
            "720\n",
            "5040\n"
          ]
        }
      ]
    },
    {
      "cell_type": "markdown",
      "source": [
        "#Ejercicio 2"
      ],
      "metadata": {
        "id": "_oltMJS7fhrP"
      }
    },
    {
      "cell_type": "code",
      "source": [
        "n=30\n",
        "primero=0\n",
        "segundo=1\n",
        "suma=0\n",
        "contador=1\n",
        "print(\"Secuencia: \")\n",
        "while(contador<=n):    \n",
        "  print(suma)\n",
        "  contador+=1\n",
        "  primero=segundo\n",
        "  segundo=suma\n",
        "  suma=primero+segundo"
      ],
      "metadata": {
        "id": "_x71EePQfkII"
      },
      "execution_count": null,
      "outputs": []
    },
    {
      "cell_type": "code",
      "source": [
        "primero=0\n",
        "segundo=1\n",
        "suma=0\n",
        "contador=1\n",
        "for i in range(1,31):\n",
        "  print(suma)\n",
        "  contador+=1\n",
        "  primero=segundo\n",
        "  segundo=suma\n",
        "  suma=primero+segundo"
      ],
      "metadata": {
        "id": "ZwlLifGbfqW9"
      },
      "execution_count": null,
      "outputs": []
    },
    {
      "cell_type": "markdown",
      "source": [
        "#Ejercicio 6"
      ],
      "metadata": {
        "id": "y8-4FzcKflyh"
      }
    },
    {
      "cell_type": "code",
      "source": [
        "número=int(input(\"Ingrese la tabla que desee calcular \"))\n",
        "if número>10:\n",
        "  print(\"Escoga un número entre 1 y 10\")\n",
        "else:\n",
        "  contador = 1\n",
        "while contador<=10:\n",
        "  resultado = contador * número\n",
        "  print(número,\"x\", contador,\"=\", resultado)\n",
        "  contador = contador + 1"
      ],
      "metadata": {
        "id": "kYKTupeyfniF"
      },
      "execution_count": null,
      "outputs": []
    },
    {
      "cell_type": "code",
      "source": [
        "número=int(input(\"Ingrese la tabla que desee calcular \"))\n",
        "if número>10:\n",
        "  print(\"Escoga un número entre 1 y 10\")\n",
        "else:\n",
        "  for i in range(1,11):\n",
        "    print(número,\"x\",i,\"=\",número*i)"
      ],
      "metadata": {
        "id": "ZWNdeDj-fuzt"
      },
      "execution_count": null,
      "outputs": []
    }
  ]
}