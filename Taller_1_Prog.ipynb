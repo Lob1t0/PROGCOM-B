{
  "nbformat": 4,
  "nbformat_minor": 0,
  "metadata": {
    "colab": {
      "name": "Taller 1 Prog",
      "provenance": []
    },
    "kernelspec": {
      "name": "python3",
      "display_name": "Python 3"
    },
    "language_info": {
      "name": "python"
    }
  },
  "cells": [
    {
      "cell_type": "markdown",
      "source": [
        "#Taller 1"
      ],
      "metadata": {
        "id": "B8R82ks9qu82"
      }
    },
    {
      "cell_type": "markdown",
      "source": [
        "#Ejercicio 1"
      ],
      "metadata": {
        "id": "luEOvUk4rAYl"
      }
    },
    {
      "cell_type": "code",
      "source": [
        "Número1=int(input(\"Escribe un numero entero\"))\n",
        "Número2=int(input(\"Escribe otro numero entero\"))\n",
        "if Número2!=0:\n",
        "  División=Número1/Número2\n",
        "  modulo=Número1%Número2\n",
        "  if modulo==0:\n",
        "    print(\"El resultado de la division es exacta\")\n",
        "  else:\n",
        "    print(\"El resultado de la division no es exacta\")\n",
        "else:\n",
        "  print(\"No se puede resolver porque es indefinida\")\n",
        "\n",
        "\n",
        "\n",
        "\n",
        "\n"
      ],
      "metadata": {
        "id": "F0h0P31qrD1F"
      },
      "execution_count": null,
      "outputs": []
    },
    {
      "cell_type": "markdown",
      "source": [
        "#Ejercicio 2\n"
      ],
      "metadata": {
        "id": "2peFoDp9vypF"
      }
    },
    {
      "cell_type": "code",
      "source": [
        "número=float(input(\"Escribe cualquier número:\"))\n",
        "múltiplo=float(input(\"Escribe cualquier número:\"))\n",
        "resultado=número%múltiplo\n",
        "if resultado==0:\n",
        "  print(\"Estos dos números son múltiplos\")\n",
        "else:\n",
        "  print(\"Estos dos números no son múltiplos\")"
      ],
      "metadata": {
        "id": "DHwiFiYbv4BM"
      },
      "execution_count": null,
      "outputs": []
    },
    {
      "cell_type": "markdown",
      "source": [
        "#Ejercicio 3"
      ],
      "metadata": {
        "id": "w1MRbgPfB-O8"
      }
    },
    {
      "cell_type": "code",
      "source": [
        "Hermano1=int(input(\"Edad hermano1:\"))\n",
        "Hermano2=int(input(\"Edad hermano2:\"))\n",
        "Hermano3=int(input(\"Edad hermano3:\"))\n",
        "\n",
        "orden=sorted([Hermano1,Hermano2,Hermano3])\n",
        "print(\"El orden de nacimiento es:\",orden)\n",
        "\n",
        "\n",
        "if Hermano1==Hermano2==Hermano3:\n",
        "    print(\"Son trillizos\")\n",
        "elif Hermano1!=Hermano2 and Hermano1!=Hermano3:\n",
        "  print(\"Nacieron en diferentes días\")\n",
        "elif Hermano1==Hermano2 or Hermano1==Hermano3 or Hermano2==Hermano3:\n",
        "  print(\"Son gemelos\")\n",
        "\n"
      ],
      "metadata": {
        "id": "zZV62Jv9CPWc"
      },
      "execution_count": null,
      "outputs": []
    }
  ]
}