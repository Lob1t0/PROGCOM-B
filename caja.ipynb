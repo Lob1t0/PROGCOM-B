{
  "nbformat": 4,
  "nbformat_minor": 0,
  "metadata": {
    "colab": {
      "provenance": []
    },
    "kernelspec": {
      "name": "python3",
      "display_name": "Python 3"
    },
    "language_info": {
      "name": "python"
    }
  },
  "cells": [
    {
      "cell_type": "code",
      "execution_count": null,
      "metadata": {
        "id": "CKYh8Zn29svq"
      },
      "outputs": [],
      "source": [
        "Negocio={}\n",
        "type(Negocio)"
      ]
    },
    {
      "cell_type": "code",
      "source": [
        "Negocio={\"Productos\":[\"Jugos naturales\",\"Cerveza\",\"Agua\",\"Gaseosas\",\"Papas\"],\"Combos\":[\"Combo 1\",\"Combo 2\",\"Combo 3\",\"Combo 4\"]}\n",
        "Negocio\n",
        "print(\"\\nEstos son los precios de los productos:\\n\")\n",
        "if Negocio[\"Productos\"][0]:\n",
        "  valor1=7000\n",
        "  print(\"Los jugos naturales tienen un valor de\",valor1)\n",
        "if Negocio[\"Productos\"][1]:\n",
        "  valor2=3500\n",
        "  print(\"La cerveza tiene un valor de\",valor2)\n",
        "if Negocio[\"Productos\"][2]:\n",
        "  valor3=4000\n",
        "  print(\"El agua tiene un valor de\",valor3)\n",
        "if Negocio[\"Productos\"][3]:\n",
        "  valor4=2500\n",
        "  print(\"Las gaseosas tienen un valor de\",valor4)\n",
        "if Negocio[\"Productos\"][4]:\n",
        "  valor5=3000\n",
        "  print(\"Las papas tienen un valor de\",valor5)\n",
        "print(\"\\nEstos son los precios de los Combos:\\n\")\n",
        "if Negocio[\"Combos\"][0]:\n",
        "  valor6=20000\n",
        "  print(\"El combo 1 tiene un valor de\",valor6)\n",
        "if Negocio[\"Combos\"][1]:\n",
        "  valor7=25000\n",
        "  print(\"El combo 2 tiene un valor de\",valor7)\n",
        "if Negocio[\"Combos\"][2]:\n",
        "  valor8=18000\n",
        "  print(\"El combo 3 tiene un valor de\",valor8)\n",
        "if Negocio[\"Combos\"][3]:\n",
        "  valor9=24500\n",
        "  print(\"El combo 4 tiene un valor de\",valor9)\n",
        "\n",
        "print(\"\\nEl local solo tiene una capacidad de 8 personas\\n\")\n",
        "\n",
        "\n",
        "\n",
        "\n",
        "\n",
        "\n"
      ],
      "metadata": {
        "id": "sGoacQxXInn8"
      },
      "execution_count": null,
      "outputs": []
    }
  ]
}