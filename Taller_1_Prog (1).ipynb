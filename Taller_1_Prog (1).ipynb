{
  "nbformat": 4,
  "nbformat_minor": 0,
  "metadata": {
    "colab": {
      "name": "Taller 1 Prog",
      "provenance": []
    },
    "kernelspec": {
      "name": "python3",
      "display_name": "Python 3"
    },
    "language_info": {
      "name": "python"
    }
  },
  "cells": [
    {
      "cell_type": "markdown",
      "source": [
        "#Taller 1"
      ],
      "metadata": {
        "id": "B8R82ks9qu82"
      }
    },
    {
      "cell_type": "markdown",
      "source": [
        "#Ejercicio 1"
      ],
      "metadata": {
        "id": "luEOvUk4rAYl"
      }
    },
    {
      "cell_type": "code",
      "source": [
        "Número1=int(input(\"Escribe un numero entero\"))\n",
        "Número2=int(input(\"Escribe otro numero entero\"))\n",
        "if Número2!=0:\n",
        "  División=Número1/Número2\n",
        "  modulo=Número1%Número2\n",
        "  if modulo==0:\n",
        "    print(\"El resultado de la division es exacta\")\n",
        "  else:\n",
        "    print(\"El resultado de la division no es exacta\")\n",
        "else:\n",
        "  print(\"No se puede resolver porque es indefinida\")\n",
        "\n",
        "\n",
        "\n",
        "\n",
        "\n"
      ],
      "metadata": {
        "id": "F0h0P31qrD1F"
      },
      "execution_count": null,
      "outputs": []
    },
    {
      "cell_type": "markdown",
      "source": [
        "#Ejercicio 2\n"
      ],
      "metadata": {
        "id": "2peFoDp9vypF"
      }
    },
    {
      "cell_type": "code",
      "source": [
        "número=float(input(\"Escribe cualquier número:\"))\n",
        "múltiplo=float(input(\"Escribe cualquier número:\"))\n",
        "resultado=número%múltiplo\n",
        "if resultado==0:\n",
        "  print(\"Estos dos números son múltiplos\")\n",
        "else:\n",
        "  print(\"Estos dos números no son múltiplos\")"
      ],
      "metadata": {
        "id": "DHwiFiYbv4BM"
      },
      "execution_count": null,
      "outputs": []
    },
    {
      "cell_type": "markdown",
      "source": [
        "#Ejercicio 3"
      ],
      "metadata": {
        "id": "w1MRbgPfB-O8"
      }
    },
    {
      "cell_type": "code",
      "source": [
        "Hermano1=int(input(\"Edad hermano1:\"))\n",
        "Hermano2=int(input(\"Edad hermano2:\"))\n",
        "Hermano3=int(input(\"Edad hermano3:\"))\n",
        "\n",
        "orden=sorted([Hermano1,Hermano2,Hermano3])\n",
        "print(\"El orden de nacimiento es:\",orden)\n",
        "\n",
        "\n",
        "if Hermano1==Hermano2==Hermano3:\n",
        "    print(\"Son trillizos\")\n",
        "elif Hermano1!=Hermano2 and Hermano1!=Hermano3:\n",
        "  print(\"Nacieron en diferentes días\")\n",
        "elif Hermano1==Hermano2 or Hermano1==Hermano3 or Hermano2==Hermano3:\n",
        "  print(\"Son gemelos\")\n",
        "\n"
      ],
      "metadata": {
        "id": "zZV62Jv9CPWc"
      },
      "execution_count": null,
      "outputs": []
    },
    {
      "cell_type": "markdown",
      "source": [
        "#Ejercicio 4\n"
      ],
      "metadata": {
        "id": "-ZZ8fATFAOJX"
      }
    },
    {
      "cell_type": "code",
      "source": [
        "print(\"Bienvedio al sistema para consultar si debes pagar impuesto sobre la renta\")\n",
        "nombre=str(input(\"Escribe tu nombre: \"))\n",
        "cédula=str(input(\"Escribe tu numero de cédula: \"))\n",
        "patrimonio=float(input(\"Escriba su patrimonio bruto al término del respectivo año gravable: \"))\n",
        "ingresos=float(input(\"Escribe tus ingresos totales del respectivo ejercicio gravable: \"))\n",
        "if patrimonio>=163386000 or ingresos>=50831000:\n",
        "  print(\"El ciudadano \", nombre, \"identificado con la cédula de ciudadanía\", cédula, \"debe paagar el impuesto de renta\")\n",
        "else:\n",
        "  print(\"El ciudadano \", nombre, \"identificado con la cédula de ciudadanía\", cédula, \"NO debe paagar el impuesto de renta\")"
      ],
      "metadata": {
        "id": "adPUpRWdJB6-"
      },
      "execution_count": null,
      "outputs": []
    },
    {
      "cell_type": "markdown",
      "source": [
        "#Ejercicio 5"
      ],
      "metadata": {
        "id": "absGmU-TN04N"
      }
    },
    {
      "cell_type": "code",
      "source": [
        "#Input para ingresar la descripción\n",
        "print(\"Ingrese la descripción\")\n",
        "caracteres = input()\n",
        "#Los métodos isdigit(), isnumeric() e isdecimal() determinan si todos los caracteres de la cadena son dígitos, números o números decimales.\n",
        "if(caracteres.find('U') == 0):\n",
        "    print(\"Es de la UNAB\")\n",
        "elif(caracteres.startswith('A000')):\n",
        "    print(\"Es de los ANDES\")\n",
        "else:\n",
        "  if(int(caracteres) > 1950):\n",
        "    print(\"Es de la UIS\")\n",
        "  else:\n",
        "    print(\"No pertenece a nada\")"
      ],
      "metadata": {
        "id": "aIcgUJt3N3Ok"
      },
      "execution_count": null,
      "outputs": []
    },
    {
      "cell_type": "markdown",
      "source": [
        "#Ejercicio 6\n"
      ],
      "metadata": {
        "id": "SKhhDxRUni-s"
      }
    },
    {
      "cell_type": "code",
      "source": [
        "print(\"Pon tus 4 nota, para que el programa calcule tu promedio\")\n",
        "\n",
        "nota1=float(input(\"Primera nota: \"))\n",
        "nota2=float(input(\"Segunda nota: \"))\n",
        "nota3=float(input(\"Tercera nota 3: \"))\n",
        "nota4=float(input(\"Cuarta nota 4: \"))\n",
        "total=(nota1+nota2+nota3+nota4)\n",
        "promedio=(total/4)\n",
        "\n",
        "print(promedio)\n",
        "\n",
        "if promedio>=4.5:\n",
        "  print(\"Has sido eximido del examen, ¡Felicidades!\")\n",
        "elif promedio>3.5 and promedio<4.5:\n",
        "  print(\"No Has sido eximido del examen, suerte a la proxima\")\n",
        "elif promedio>=3 and promedio<=3.5:\n",
        "  print(\"Debes presentar el examen y con un trabajo adicional\")\n",
        "elif promedio<3 and promedio>2:\n",
        "  print(\"Debes presentar habilitación\")\n",
        "else:\n",
        "  print(\"Lamentablemente perdiste la materia\")"
      ],
      "metadata": {
        "id": "yfWEMCBknn5k"
      },
      "execution_count": null,
      "outputs": []
    },
    {
      "cell_type": "markdown",
      "source": [
        "#Ejercicio7"
      ],
      "metadata": {
        "id": "THVbFFT0Ol_7"
      }
    },
    {
      "cell_type": "code",
      "source": [
        "día=int(input(\"Escribe tu día de nacimiento:\"))\n",
        "mes=int(input(\"Escribe tu mes de nacimiento:\"))\n",
        "año=int(input(\"Escribe tu año de año de nacimiento:\"))\n",
        "\n",
        "today = date.today()\n",
        "print(today)\n",
        "\n",
        "resta=2022-año\n",
        "print(\"Tienes\",resta,\"años\")\n",
        "\n",
        "mes1=31\n",
        "mes2=28\n",
        "mes3=31\n",
        "mes4=30\n",
        "mes5=31\n",
        "mes6=30\n",
        "mes7=31\n",
        "mes8=31\n",
        "mes9=30\n",
        "mes10=31\n",
        "mes11=30\n",
        "mes12=31\n",
        "\n",
        "if mes==1:\n",
        "  suma=(mes2+mes3+mes4+mes5+mes6+mes7+mes8+mes9+mes10+mes11+mes12)\n",
        "  print(\"Segun con la fecha actual te faltan\",suma,\"días para cumplir años\")\n",
        "if mes==2:\n",
        "  suma=(mes1+mes3+mes4+mes5+mes6+mes7+mes8+mes9+mes10+mes11+mes12)\n",
        "  print(\"Segun con la fecha actual te faltan\",suma,\"días para cumplir años\")\n",
        "if mes==3:\n",
        "  suma=(mes1+mes2+mes4+mes5+mes6+mes7+mes8+mes9+mes10+mes11+mes12)\n",
        "  print(\"Segun con la fecha actual te faltan\",suma,\"días para cumplir años\")\n",
        "if mes==4:\n",
        "  suma=(mes1+mes2+mes3+mes5+mes6+mes7+mes8+mes9+mes10+mes11+mes12)\n",
        "  print(\"Segun con la fecha actual te faltan\",suma,\"días para cumplir años\")\n",
        "if mes==5:\n",
        "  suma=(mes1+mes2+mes3+mes4+mes6+mes7+mes8+mes9+mes10+mes11+mes12)\n",
        "  print(\"Segun con la fecha actual te faltan\",suma,\"días para cumplir años\")\n",
        "if mes==6:\n",
        "  suma=(mes1+mes2+mes3+mes4+mes5+mes7+mes8+mes9+mes10+mes11+mes12)\n",
        "  print(\"Segun con la fecha actual te faltan\",suma,\"días para cumplir años\")\n",
        "if mes==7:\n",
        "  suma=(mes1+mes2+mes3+mes4+mes5+mes6+mes8+mes9+mes10+mes11+mes12)\n",
        "  print(\"Segun con la fecha actual te faltan\",suma,\"días para cumplir años\")\n",
        "if mes==8:\n",
        "  suma=(mes1+mes2+mes3+mes4+mes5+mes6+mes7+mes9+mes10+mes11+mes12)\n",
        "  print(\"Segun con la fecha actual te faltan\",suma,\"días para cumplir años\")\n",
        "if mes==9:\n",
        "  suma=(mes1+mes2+mes3+mes4+mes5+mes6+mes7+mes8+mes10+mes11+mes12)\n",
        "  print(\"Segun con la fecha actual te faltan\",suma,\"días para cumplir años\")\n",
        "if mes==10:\n",
        "  suma=(mes1+mes2+mes3+mes4+mes5+mes6+mes7+mes8+mes9+mes11+mes12)\n",
        "  print(\"Segun con la fecha actual te faltan\",suma,\"días para cumplir años\")\n",
        "if mes==11:\n",
        "  suma=(mes1+mes2+mes3+mes4+mes5+mes6+mes7+mes8+mes9+mes10+mes12)\n",
        "  print(\"Segun con la fecha actual te faltan\",suma,\"días para cumplir años\")\n",
        "if mes==12:\n",
        "  suma=(mes1+mes2+mes3+mes4+mes5+mes6+mes7+mes8+mes9+mes10+mes11)\n",
        "  print(\"Segun con la fecha actual te faltan\",suma,\"días para cumplir años\")\n",
        "\n"
      ],
      "metadata": {
        "id": "PXLnoQO9Oltr"
      },
      "execution_count": null,
      "outputs": []
    },
    {
      "cell_type": "markdown",
      "source": [
        "#Ejercicio 8"
      ],
      "metadata": {
        "id": "B2xdIL5kawGo"
      }
    },
    {
      "cell_type": "code",
      "source": [
        "año=int(input(\"Escribe el año \"))\n",
        "\n",
        "if año%4==0 and año%100==0 and año%400==0:\n",
        "    print(\"El año es bisiesto\")\n",
        "elif año%4==0 and año%100!=0:\n",
        "    print(\"El año es bisiesto\")       \n",
        "else:\n",
        "    print(\"El año no es bisiesto\")"
      ],
      "metadata": {
        "id": "mhw9PU7tav2J"
      },
      "execution_count": null,
      "outputs": []
    },
    {
      "cell_type": "markdown",
      "source": [
        "#Ejercicio 9"
      ],
      "metadata": {
        "id": "tH2cA54jbuiY"
      }
    },
    {
      "cell_type": "code",
      "source": [
        "def solución_sistema_ecuaciones(a,b,c,d,e,f):\n",
        "  determinante=a*e-b*d\n",
        "\n",
        "  if determinante!=0:\n",
        "    x=(c*e-b*f)/determinante\n",
        "    y=(a*f-c*d)/determinante\n",
        "\n",
        "    return x,y\n",
        "  else:\n",
        "    return None,None\n",
        "\n",
        "print(\"Digite los valores para a,b,c,d,e y f:\")\n",
        "a,b,c,d,e,f= map(float(input().split())\n",
        " \n",
        "print(solución_sistema(a,b,c,d,e,f))"
      ],
      "metadata": {
        "id": "QBLoCojfbufA"
      },
      "execution_count": null,
      "outputs": []
    },
    {
      "cell_type": "markdown",
      "source": [
        "#Ejercicio 11\n"
      ],
      "metadata": {
        "id": "TVxntRvcgaHe"
      }
    },
    {
      "cell_type": "code",
      "source": [
        "from math import sqrt\n",
        "class Ecuaciones2Grado():\n",
        "    def _init_(self):\n",
        "        self.interfaz()\n",
        "    def calcular(self, A, B, C):\n",
        "        if ((B**2)-4*A*C) < 0:\n",
        "            print(\"La solución de la ecuación es con números complejos\")\n",
        "        else:\n",
        "            x1 = (-B+sqrt(B**2-(4*A*C)))/(2*A)\n",
        "            x2 = (-B-sqrt(B**2-(4*A*C)))/(2*A)\n",
        "            print(\"\"\"\\\n",
        "Las soluciones de la ecuación son:\n",
        "x1 = {}\n",
        "x2 = {} \"\"\".format(x1, x2))\n",
        "    def interfaz(self):\n",
        "        A = int(input(\"Ingrese el coeficiente de la variable cuadrática\\n\"))\n",
        "        B = int(input(\"Ingrese el coeficiente de la variable lineal\\n\"))\n",
        "        C = int(input(\"Ingrese el término independiente\\n\"))\n",
        "        \n",
        "        self.calcular(A, B, C)"
      ],
      "metadata": {
        "id": "1pTDFhh-yccy"
      },
      "execution_count": null,
      "outputs": []
    },
    {
      "cell_type": "markdown",
      "source": [
        "#Ejercicio 13"
      ],
      "metadata": {
        "id": "dzAo61Oz7gg5"
      }
    },
    {
      "cell_type": "code",
      "source": [
        "print(\"Pon la medida:\")\n",
        "print(\"cm:1\")\n",
        "print(\"m:2\")\n",
        "print(\"km:3\")\n",
        "m=int(input())\n",
        "if m==1:\n",
        "  print(\"Convertir a metros:1\")\n",
        "  print(\"Convertir a kilometros:2\")\n",
        "elif m==2:\n",
        "  print(\"Convertir a centimetros:1\")\n",
        "  print(\"Convertir a kilometros:2\")\n",
        "elif m==3:\n",
        "  print(\"Convertir a centimetros:1\")\n",
        "  print(\"Convertir a metros:2\")\n",
        "n=int(input())\n",
        "a=int(input(\"Número\"))\n",
        "if m==1:\n",
        "  if n==1:\n",
        "    print(a/(10**2))\n",
        "  else:\n",
        "    print(a/(10**5))\n",
        "elif m==3:\n",
        "  if n==1:\n",
        "    print(a*(10**5))\n",
        "  else:\n",
        "    print(a*(10**3))\n",
        "elif m==2:\n",
        "  if n==1:\n",
        "    print(a*(10**2))\n",
        "  else:\n",
        "    print(a/(10**3))"
      ],
      "metadata": {
        "id": "52whtkR37gZq"
      },
      "execution_count": null,
      "outputs": []
    },
    {
      "cell_type": "markdown",
      "source": [
        "#Ejercicio 15"
      ],
      "metadata": {
        "id": "FfAujmTT7yzK"
      }
    },
    {
      "cell_type": "code",
      "source": [
        "a=float(input(\"Ingrese cualquier número\"))\n",
        "if a>0:\n",
        "  print(\"El valor absoluto es:\", a)\n",
        "else:\n",
        "  print(\"El valor absoluto es:\", -a)"
      ],
      "metadata": {
        "id": "WUTS_nd67yt8"
      },
      "execution_count": null,
      "outputs": []
    },
    {
      "cell_type": "markdown",
      "source": [
        "#Ejercicio 16"
      ],
      "metadata": {
        "id": "maUrxBlm9JNj"
      }
    },
    {
      "cell_type": "code",
      "source": [
        "print(\"Ingrese el nombre de dos usuarios\")\n",
        "user1=input(\"Ingrese el nombre del usuario 1\")\n",
        "user2=input(\"Ingrese el nombre del usuario 2\")\n",
        "\n",
        "if user1[0:1]==user2[0:1]:\n",
        "  print(\"Coincidencia en las iniciales\")\n",
        "\n",
        "else:\n",
        "  print(\"No hay coincidencia\")"
      ],
      "metadata": {
        "id": "PoGqwciJ9Lez"
      },
      "execution_count": null,
      "outputs": []
    }
  ]
}