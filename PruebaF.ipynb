{
  "nbformat": 4,
  "nbformat_minor": 0,
  "metadata": {
    "colab": {
      "provenance": []
    },
    "kernelspec": {
      "name": "python3",
      "display_name": "Python 3"
    },
    "language_info": {
      "name": "python"
    }
  },
  "cells": [
    {
      "cell_type": "code",
      "execution_count": null,
      "metadata": {
        "id": "JY61i4TtNFAm"
      },
      "outputs": [],
      "source": [
        "print(\"Cada salon tiene un máximo de 15 estudiantes\")\n",
        "CantidadA=int(input(\"Ingrese la cantidad de estudiantes de la ClaseA:\"))\n",
        "if CantidadA<=15:\n",
        "  print(\"Cumple con la cantidad máxima\")\n",
        "else:\n",
        "     print(\"Error, ingresar nuevamente\")\n",
        "CantidadB=int(input(\"Ingrese la cantidad de estudiantes de la ClaseB:\"))\n",
        "if CantidadB<=15:\n",
        "  print(\"Cumple con la cantidad máxima\")\n",
        "else:\n",
        "     print(\"Error, ingresar nuevamente\")\n",
        "CantidadC=int(input(\"Ingrese la cantidad de estudiantes de la ClaseC:\"))\n",
        "if CantidadC<=15:\n",
        "  print(\"Cumple con la cantidad máxima\")\n",
        "else:\n",
        "     print(\"Error, ingresar nuevamente\")\n",
        "EstudiantesA={\"cantidad salon A\":[CantidadA]}\n",
        "print(EstudiantesA)\n",
        "EstudiantesB={\"cantidad salon B\":[CantidadB]}\n",
        "print(EstudiantesB)\n",
        "EstudiantesC={\"cantidad salon C\":[CantidadC]}\n",
        "print(EstudiantesC)\n"
      ]
    }
  ]
}