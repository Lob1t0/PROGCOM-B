{
  "nbformat": 4,
  "nbformat_minor": 0,
  "metadata": {
    "colab": {
      "provenance": [],
      "collapsed_sections": []
    },
    "kernelspec": {
      "name": "python3",
      "display_name": "Python 3"
    },
    "language_info": {
      "name": "python"
    }
  },
  "cells": [
    {
      "cell_type": "markdown",
      "source": [
        "##False: Los elementos nulos o vacíos se consideran False, también devuelve el valor bool true para indicar que su operando es definitivamente false."
      ],
      "metadata": {
        "id": "akHsoAj9MNo-"
      }
    },
    {
      "cell_type": "code",
      "source": [
        "Hola=False\n",
        "olaa=not True\n",
        "\n",
        "print(Hola)\n",
        "print(olaa)\n"
      ],
      "metadata": {
        "id": "9JIXkxVNMAEX"
      },
      "execution_count": null,
      "outputs": []
    },
    {
      "cell_type": "code",
      "source": [
        "x=2\n",
        "y=3\n",
        "Cinco=True\n",
        "Seis=False\n",
        "print(\"El resultado es 5 es:\",Cinco)\n",
        "print(\"El resultado es menor o mayor que 5 es:\",Seis)"
      ],
      "metadata": {
        "colab": {
          "base_uri": "https://localhost:8080/"
        },
        "id": "rggwLFBmAqZo",
        "outputId": "ca53fda9-b3aa-4dc1-a3c6-1f0b471eff9a"
      },
      "execution_count": null,
      "outputs": [
        {
          "output_type": "stream",
          "name": "stdout",
          "text": [
            "El resultado es 5 es: True\n",
            "El resultado es menor o mayor que 5 es: False\n"
          ]
        }
      ]
    },
    {
      "cell_type": "markdown",
      "source": [
        "##None: Representa la ausencia de un valor. El valor None es el único valor del tipo de datos NoneType."
      ],
      "metadata": {
        "id": "vA-29uEIRyYF"
      }
    },
    {
      "cell_type": "code",
      "source": [
        "a = None \n",
        "if a is None:\n",
        "    print(\"a es None.\")\n",
        "else:\n",
        "    print(\"a no es None.\")"
      ],
      "metadata": {
        "id": "v9O7JrF3CN7a"
      },
      "execution_count": null,
      "outputs": []
    },
    {
      "cell_type": "code",
      "source": [
        "a=None\n",
        "b=123\n",
        "if(a is None):\n",
        "    print(\"A es None\")\n",
        "if(b is not None):\n",
        "    print(\"B no es None\")"
      ],
      "metadata": {
        "id": "pwvduOnuRyKf"
      },
      "execution_count": null,
      "outputs": []
    },
    {
      "cell_type": "markdown",
      "source": [
        "##True: Se utiliza para representar el valor de verdad de una expresión, también devuelve el valor bool true para indicar que su operando es definitivamente true "
      ],
      "metadata": {
        "id": "BluSOUrtTXJM"
      }
    },
    {
      "cell_type": "code",
      "source": [
        "a=True\n",
        "if a==True:\n",
        "    print(\"Este código es ejecutado.\")"
      ],
      "metadata": {
        "id": "JdqXj5LyDJ_5"
      },
      "execution_count": null,
      "outputs": []
    },
    {
      "cell_type": "code",
      "source": [
        "Hola=False\n",
        "olaa=not True\n",
        "HOLA=True\n",
        "HOla=True\n",
        "\n",
        "print(Hola)\n",
        "print(olaa)\n",
        "print(HOLA)\n",
        "print(HOla)"
      ],
      "metadata": {
        "id": "8Y-7mRDBTWZm"
      },
      "execution_count": null,
      "outputs": []
    },
    {
      "cell_type": "markdown",
      "source": [
        "##And: Nos sirve para devolver True si ambos operandos son True"
      ],
      "metadata": {
        "id": "KX1vuxNsVZ4X"
      }
    },
    {
      "cell_type": "code",
      "source": [
        "n1=int(input(\"Escribe un número: \"))\n",
        "n2=int(input(\"Escribe un número: \"))\n",
        "\n",
        "if n1 and n2==2:\n",
        "    print(\"Son iguales\")\n",
        "if n1 and n2!=2:\n",
        "    print(\"No son iguales a 2\")"
      ],
      "metadata": {
        "id": "NXoswv8_V2mN"
      },
      "execution_count": null,
      "outputs": []
    },
    {
      "cell_type": "code",
      "source": [
        "Opción1=True\n",
        "Opción2=False\n",
        "\n",
        "if Opción1 and Opción2:\n",
        "    print(\"Ambas funciones se ejecutaron con éxito\")\n",
        "else:\n",
        "    print(\"Función fallida\")"
      ],
      "metadata": {
        "id": "wSNopDsiDgxZ"
      },
      "execution_count": null,
      "outputs": []
    },
    {
      "cell_type": "markdown",
      "source": [
        "##As: Sirve para asignar valores a una variable. Esto generalmente se combina con otros operadores (como aritmética, bit a bit) donde la operación se realiza en los operandos y el resultado se asigna al operando izquierdo."
      ],
      "metadata": {
        "id": "fpCN3O0xY05v"
      }
    },
    {
      "cell_type": "code",
      "source": [
        "a=7; b=2\n",
        "print(\"Operadores de asignación\")\n",
        "x=a; x+=b;  print(\"x+=\", x)  \n",
        "print(\"Suma a la variable del lado izquierdo el valor del lado derecho\")\n",
        "x=a; x-=b;  print(\"x-=\", x)  \n",
        "print(\"Resta a la variable del lado izquierdo el valor del lado derecho\")\n",
        "x=a; x*=b;  print(\"x*=\", x)  \n",
        "print(\"Multiplica a la variable del lado izquierdo el valor del lado derecho\")\n",
        "x=a; x/=b;  print(\"x/=\", x)  \n",
        "print(\"Divide a la variable del lado izquierdo el valor del lado derecho\")\n",
        "x=a; x%=b;  print(\"x%=\", x)  \n",
        "print(\"Devuelve el resto de la división a la variable del lado izquierdo el valor del lado derecho\")\n",
        "x=a; x//=b; print(\"x//=\", x) \n",
        "print(\"Calcula la división entera a la variable del lado izquierdo el valor del lado derecho\")\n",
        "x=a; x**=b; print(\"x**=\", x) \n",
        "print(\"Calcula el exponente a la variable del lado izquierdo el valor del lado derecho\")"
      ],
      "metadata": {
        "id": "nPqhOye7Y-Dt"
      },
      "execution_count": null,
      "outputs": []
    },
    {
      "cell_type": "markdown",
      "source": [
        "##Assert: Nos permite realizar comprobaciones, si la expresión contenida dentro del mismo es False, se lanzará una excepción, concretamente AssertionError"
      ],
      "metadata": {
        "id": "1cBuOBDFZtH7"
      }
    },
    {
      "cell_type": "code",
      "source": [
        "def calcula_media(lista):\n",
        "    return sum(lista)/len(lista)\n",
        "assert(calcula_media([5, 10, 7.5]) == 7.5)\n",
        "assert(calcula_media([4, 8]) == 6)\n",
        "def suma(a, b):\n",
        "    assert(type(a) == int)\n",
        "    assert(type(b) == int)\n",
        "    return a+b\n",
        "suma(3, 5)"
      ],
      "metadata": {
        "id": "q1MadvHUZ6sU"
      },
      "execution_count": null,
      "outputs": []
    },
    {
      "cell_type": "markdown",
      "source": [
        "##Break: Le proporciona la oportunidad de cerrar un bucle cuando se activa una condición externa. Debe poner la instrucción break dentro del bloque de código bajo la instrucción de su bucle, generalmente después de una instrucción if condicional"
      ],
      "metadata": {
        "id": "fl4Dfzbcasdk"
      }
    },
    {
      "cell_type": "code",
      "source": [
        "i =0\n",
        "while True:\n",
        "    i+=1\n",
        "    print(i)\n",
        "    if i==13:\n",
        "        break"
      ],
      "metadata": {
        "id": "LWSnyF7KbOg1"
      },
      "execution_count": null,
      "outputs": []
    },
    {
      "cell_type": "code",
      "source": [
        "for val in \"string\":\n",
        "    if val == \"i\":\n",
        "        break\n",
        "    print(val)\n",
        "\n",
        "print(\"The end\")"
      ],
      "metadata": {
        "id": "q7jIIyiRIrSg"
      },
      "execution_count": null,
      "outputs": []
    },
    {
      "cell_type": "markdown",
      "source": [
        "##Class: Es un tipo de dato definido por el usuario, y la crear instancias de una clase hace relación a la creación de objetos de ese tipo. Las clases y los objetos son considerados los principales bloques de desarrollo para Python, el cual es un lenguaje de programación orientado a objetos."
      ],
      "metadata": {
        "id": "NStffAW-eA6p"
      }
    },
    {
      "cell_type": "code",
      "source": [
        "class Alumno:\n",
        "\n",
        "    def __init__(self, nombre):\n",
        "        self.nombre = nombre\n",
        "\n",
        "    def saludar(self):\n",
        "        \"\"\"Imprime un saludo en pantalla.\"\"\"\n",
        "        print(f\"¡Hola, {self.nombre}!\")\n",
        "\n",
        "\n",
        "alumno = Alumno(\"Pablo\")\n",
        "alumno.saludar()"
      ],
      "metadata": {
        "id": "PHs4Scr-eAzC"
      },
      "execution_count": null,
      "outputs": []
    },
    {
      "cell_type": "markdown",
      "source": [
        "##Continue: Da la opción de omitir la parte de un bucle en la que se activa una condición externa, pero continuar para completar el resto del bucle. Es decir, la iteración actual del bucle se interrumpirá, pero el programa volverá a la parte superior del bucle."
      ],
      "metadata": {
        "id": "T5ZnHRGuexEi"
      }
    },
    {
      "cell_type": "code",
      "source": [
        "for n in range(60):\n",
        "  if n==2:\n",
        "    continue\n",
        "  print(n)"
      ],
      "metadata": {
        "id": "fpqQtdrqfJIE"
      },
      "execution_count": null,
      "outputs": []
    },
    {
      "cell_type": "code",
      "source": [
        "for val in \"string\":\n",
        "    if val == \"i\":\n",
        "        continue\n",
        "    print(val)\n",
        "\n",
        "print(\"The end\")"
      ],
      "metadata": {
        "id": "tliIRP0_Ieco"
      },
      "execution_count": null,
      "outputs": []
    },
    {
      "cell_type": "markdown",
      "source": [
        "##Def: Es una palabra reservada que indica a Python que una nueva función está siendo definida."
      ],
      "metadata": {
        "id": "P9Y5ShitfXp7"
      }
    },
    {
      "cell_type": "code",
      "source": [
        "y = 20\n",
        "def muestra_x():\n",
        "  x = 10\n",
        "  print(f'x vale {x}')\n",
        "  print(f'y vale {y}')\n",
        "    \n",
        "muestra_x()"
      ],
      "metadata": {
        "id": "YdgUGe1egr75"
      },
      "execution_count": null,
      "outputs": []
    },
    {
      "cell_type": "code",
      "source": [
        "def solución_sistema_ecuaciones(a,b,c,d,e,f):\n",
        "  determinante=a*e-b*d\n",
        "\n",
        "  if determinante!=0:\n",
        "    x=(c*e-b*f)/determinante\n",
        "    y=(a*f-c*d)/determinante\n",
        "\n",
        "    return x,y\n",
        "  else:\n",
        "    return None,None\n",
        "\n",
        "print(\"Digite los valores para a,b,c,d,e y f:\")\n",
        "a,b,c,d,e,f= map(float(input().split())\n",
        " \n",
        "print(solución_sistema(a,b,c,d,e,f))"
      ],
      "metadata": {
        "id": "9JyE0kaRIP3A"
      },
      "execution_count": null,
      "outputs": []
    },
    {
      "cell_type": "markdown",
      "source": [
        "##Del: Se utiliza para eliminar objetos. Debido a la naturaleza orientada a objetos de Python, todo lo que puede contener datos es un objeto. Entonces, la declaración del se puede usar para eliminar variables, objetos de clase, listas, etc."
      ],
      "metadata": {
        "id": "7x2kwxfMhJhb"
      }
    },
    {
      "cell_type": "code",
      "source": [
        "print(\"Eliminar elemento de diccionario con la declaración del en Python\")\n",
        "dictionary = {\"key1\" : \"value1\", \"key2\" : \"value2\", \"key3\" : \"value3\"}\n",
        "print(dictionary)\n",
        "del dictionary[\"key2\"]\n",
        "del dictionary[\"key1\"]\n",
        "print(dictionary)"
      ],
      "metadata": {
        "id": "SQxzGaafJHwQ"
      },
      "execution_count": null,
      "outputs": []
    },
    {
      "cell_type": "markdown",
      "source": [
        "##Elif: Es una forma común de controlar el flujo de un programa, lo que te permite ejecutar bloques de código específicos según el valor de algunos datos. Si la condición que sigue a la palabra clave if se evalúa como verdadera, el bloque de código se ejecutará"
      ],
      "metadata": {
        "id": "vczvtqNyJwdv"
      }
    },
    {
      "cell_type": "code",
      "source": [
        "Hermano1=int(input(\"Edad hermano1:\"))\n",
        "Hermano2=int(input(\"Edad hermano2:\"))\n",
        "Hermano3=int(input(\"Edad hermano3:\"))\n",
        "\n",
        "orden=sorted([Hermano1,Hermano2,Hermano3])\n",
        "print(\"El orden de nacimiento es:\",orden)\n",
        "\n",
        "\n",
        "if Hermano1==Hermano2==Hermano3:\n",
        "    print(\"Son trillizos\")\n",
        "elif Hermano1!=Hermano2 and Hermano1!=Hermano3:\n",
        "  print(\"Nacieron en diferentes días\")\n",
        "elif Hermano1==Hermano2 or Hermano1==Hermano3 or Hermano2==Hermano3:\n",
        "  print(\"Son gemelos\")"
      ],
      "metadata": {
        "id": "WNp8a5rOJv4J"
      },
      "execution_count": null,
      "outputs": []
    },
    {
      "cell_type": "markdown",
      "source": [
        "##Else: Es una forma común de controlar el flujo de un programa, lo que te permite ejecutar bloques de código específicos según el valor de algunos datos y se ejecutará si la condición es false"
      ],
      "metadata": {
        "id": "_MDanZGFP8Yw"
      }
    },
    {
      "cell_type": "code",
      "source": [
        "Número1=int(input(\"Escribe un numero entero\"))\n",
        "Número2=int(input(\"Escribe otro numero entero\"))\n",
        "if Número2!=0:\n",
        "  División=Número1/Número2\n",
        "  modulo=Número1%Número2\n",
        "  if modulo==0:\n",
        "    print(modulo)\n",
        "    print(\"El resultado de la division es exacta\")\n",
        "  else:\n",
        "    print(modulo)\n",
        "    print(\"El resultado de la division no es exacta\")\n",
        "else:\n",
        "  print(\"No se puede resolver porque es indefinida\")"
      ],
      "metadata": {
        "id": "a5leXTaDQixH"
      },
      "execution_count": null,
      "outputs": []
    },
    {
      "cell_type": "markdown",
      "source": [
        "##Except: Detiene la ejecución y devuelve una excepción, que no es más que una señal que ha occurrido un funcionamiento no esperado o error en el programa, indicándonos aproximadamente qué fue lo que ocurrió."
      ],
      "metadata": {
        "id": "ATlTuRyKQ_FB"
      }
    },
    {
      "cell_type": "code",
      "source": [
        "try:\n",
        "  cociente = dividendo / divisor\n",
        "except:\n",
        "  print(\"No se permite la división por cero\")"
      ],
      "metadata": {
        "id": "Ni8eGp_USyOQ"
      },
      "execution_count": null,
      "outputs": []
    },
    {
      "cell_type": "markdown",
      "source": [
        "##Finally: Se escriben las sentencias de finalización, que son típicamente acciones de limpieza. La particularidad del bloque finally es que se ejecuta siempre, haya surgido una excepción o no."
      ],
      "metadata": {
        "id": "jGA4LgMzUuQw"
      }
    },
    {
      "cell_type": "code",
      "source": [
        "try:\n",
        "    archi1=open(\"datos.txt\",\"w\") \n",
        "    archi1.write(\"Primer línea.\\n\") \n",
        "    archi1.write(\"Segunda línea.\\n\") \n",
        "    archi1.write(\"Tercer línea.\\n\")  \n",
        "    archi1.write(3334)\n",
        "except TypeError:\n",
        "    print(\"No se puede grabar un entero con write\")    \n",
        "finally:\n",
        "    archi1.close() \n",
        "    print(\"Se cerró el archivo\")"
      ],
      "metadata": {
        "id": "jDnNyI00VCkf"
      },
      "execution_count": null,
      "outputs": []
    },
    {
      "cell_type": "markdown",
      "source": [
        "##For: Establece la variable iteradora en cada valor de una lista, arreglo o cadena proporcionada y repite el código en el cuerpo del bucle for para cada valor de la variable iteradora."
      ],
      "metadata": {
        "id": "DaNoGKm0YYbP"
      }
    },
    {
      "cell_type": "code",
      "source": [
        "n=(int(input(\"ingrese un número para saber si es o no primo: \")))\n",
        "contador=0\n",
        "for i in range(0,n):\n",
        "  divisor= i+1\n",
        "  division= n%divisor\n",
        "  print(division)\n",
        "  if division==0:\n",
        "    contador=contador+1   \n",
        "if contador<=2:\n",
        "  print(\"El número es primo\")"
      ],
      "metadata": {
        "id": "p72ipQ72ZcEA"
      },
      "execution_count": null,
      "outputs": []
    },
    {
      "cell_type": "markdown",
      "source": [
        "##From: Sirve para indicarle a Python específicamente cuáles objetos queremos importar de un módulo en particular. Luego, los objetos importados se incorporan a nuestro archivo como cualquier otro objeto definido dentro de él. Por esta razón, no es necesario (ni posible) usar el prefijo mimodulo"
      ],
      "metadata": {
        "id": "o2YaeLXyZu_u"
      }
    },
    {
      "cell_type": "code",
      "source": [
        "datos_basicos = {\n",
        "    \"nombres\":\"Jesus David\",\n",
        "    \"apellidos\":\"Diaz Lobo\",\n",
        "    \"cedula\":\"1098569854\",\n",
        "    \"fecha_nacimiento\":\"10/06/2004\",\n",
        "    \"lugar_nacimiento\":\"Santander/Colombia \",\n",
        "    \"nacionalidad\":\"Colombiano\",\n",
        "    \"estado_civil\":\"Soltero\"\n",
        "}\n",
        "clave = datos_basicos.keys()\n",
        "valor = datos_basicos.values()\n",
        "cantidad_datos = datos_basicos.items()\n",
        "\n",
        "for clave, valor in cantidad_datos:\n",
        "    print (clave + \": \" + valor)"
      ],
      "metadata": {
        "id": "d_RlCTAwaEKZ"
      },
      "execution_count": null,
      "outputs": []
    },
    {
      "cell_type": "markdown",
      "source": [
        "##Global: Son aquellas definidas en el cuerpo principal del programa fuera de cualquier función. Son accesibles desde cualquier punto del programa, incluso desde dentro de funciones. También se puede acceder a las variables globales de otros programas o módulos importados."
      ],
      "metadata": {
        "id": "XujOEDzcaQzw"
      }
    },
    {
      "cell_type": "code",
      "source": [
        "print(\"Variable global desde una función:\")\n",
        "\n",
        "contador = 10\n",
        "def reiniciar_contador():\n",
        "\tcontador = 0\n",
        "print(f'Contador antes es {contador}')\n",
        "reiniciar_contador()\n",
        "print(f'Contador después es {contador}')"
      ],
      "metadata": {
        "id": "dEHxOWccaakO"
      },
      "execution_count": null,
      "outputs": []
    },
    {
      "cell_type": "markdown",
      "source": [
        "##If: Esencialmente dice: \"Si la expresión evaluada, resulta ser verdadera(True), entonces ejecuta una vez el código en la expresión. Si sucede el caso contrario y la expresión es falsa, entonces No ejecutes el código que sigue.\""
      ],
      "metadata": {
        "id": "PJhkr-ZZa0Tf"
      }
    },
    {
      "cell_type": "code",
      "source": [
        "print(\"Ingrese la descripción\")\n",
        "caracteres = input()\n",
        "if(caracteres.find('U') == 0):\n",
        "    print(\"Es de la UNAB\")\n",
        "elif(caracteres.startswith('A000')):\n",
        "    print(\"Es de los ANDES\")\n",
        "else:\n",
        "  if(int(caracteres) > 1950):\n",
        "    print(\"Es de la UIS\")\n",
        "  else:\n",
        "    print(\"No pertenece a nada\")"
      ],
      "metadata": {
        "id": "ZklFs0jFbJLm"
      },
      "execution_count": null,
      "outputs": []
    },
    {
      "cell_type": "markdown",
      "source": [
        "##Import: Obtiene acceso al código en otro módulo por el proceso de importarlo. La instrucción import es la forma más común de invocar la maquinaria de importación, pero no es la única manera."
      ],
      "metadata": {
        "id": "Wbqk0jGObODw"
      }
    },
    {
      "cell_type": "code",
      "source": [
        "from math import sqrt\n",
        "A = int(input(\"Ingrese el coeficiente de la variable cuadrática\\n\"))\n",
        "B = int(input(\"Ingrese el coeficiente de la variable lineal\\n\"))\n",
        "C = int(input(\"Ingrese el término independiente\\n\"))\n",
        "x1= 0\n",
        "x2= 0\n",
        "if ((B**2)-4*A*C) < 0:\n",
        "  print(\"La solución de la ecuación es con números complejos\")\n",
        "else:\n",
        "  x1 = (-B+sqrt(B**2-(4*A*C)))/(2*A)\n",
        "  x2 = (-B-sqrt(B**2-(4*A*C)))/(2*A)\n",
        "  print(\"Las soluciones de la ecuación son:\")\n",
        "  print(x1)\n",
        "  print(x2)"
      ],
      "metadata": {
        "id": "qn4-xkf-qayH"
      },
      "execution_count": null,
      "outputs": []
    },
    {
      "cell_type": "markdown",
      "source": [
        "##In y Not: Son operadores de pertenencia, in devuelve True si el valor especificado se encuentra en la secuencia. En caso contrario devuelve False, not in devuelve True si el valor especificado no se encuentra en la secuencia."
      ],
      "metadata": {
        "id": "cpc6TNR-uwpn"
      }
    },
    {
      "cell_type": "code",
      "source": [
        "n=int(input(\"Ingrese el número: \"))\n",
        "contador=1\n",
        "for i in range(1,n):\n",
        "  resta=n-i\n",
        "  contador=contador*resta\n",
        "  print(contador)\n",
        "\n",
        "factorial=n*contador\n",
        "print(factorial)"
      ],
      "metadata": {
        "id": "hDFsPiaCu8mW"
      },
      "execution_count": null,
      "outputs": []
    },
    {
      "cell_type": "code",
      "source": [
        "a=dict({})\n",
        "if not a:\n",
        "  print(\"El diccionario esta vacio\")\n",
        "else:\n",
        "  print(a)"
      ],
      "metadata": {
        "id": "4Crzm8wBvx7k"
      },
      "execution_count": null,
      "outputs": []
    },
    {
      "cell_type": "markdown",
      "source": [
        "##Is: Devolverá True si las dos variables apuntan al mismo objeto, hace que nuestro código sea muy legible pero puede resultar muy engañoso."
      ],
      "metadata": {
        "id": "Gds-RQ2-wNMF"
      }
    },
    {
      "cell_type": "code",
      "source": [
        "n=int(input(\"Ingrese el número: \"))\n",
        "contador is 1\n",
        "for i in range(1,n):\n",
        "  resta=n-i\n",
        "  contador=contador*resta\n",
        "  print(contador)\n",
        "\n",
        "factorial=n*contador\n",
        "print(factorial)"
      ],
      "metadata": {
        "id": "FweUDIacyOZo"
      },
      "execution_count": null,
      "outputs": []
    },
    {
      "cell_type": "markdown",
      "source": [
        "##Lambda: Son una forma corta de declarar funciones pequeñas y anónimas (no es necesario proporcionar un nombre para las funciones lambda). Las funciones Lambda se comportan como funciones normales declaradas con la palabra clave def.\n",
        "\n",
        "\n",
        "\n"
      ],
      "metadata": {
        "id": "eXWrUxG8w2Ds"
      }
    },
    {
      "cell_type": "code",
      "source": [
        "mi_lista = [18, -3, 5, 0, -1, 12]\n",
        "lista_nueva = list(filter(lambda x: x > -6, mi_lista))\n",
        "print(lista_nueva)"
      ],
      "metadata": {
        "id": "tT5Lic4Gw1wV"
      },
      "execution_count": null,
      "outputs": []
    },
    {
      "cell_type": "markdown",
      "source": [
        "##Nonlocal: Se usa para trabajar con variables dentro de funciones anidadas, donde la variable no debe pertenecer a la función interna. Use la palabra clave nonlocal para declarar que la variable no es local"
      ],
      "metadata": {
        "id": "IB8RLoeozwTP"
      }
    },
    {
      "cell_type": "code",
      "source": [
        "def myfunc1():\n",
        "  x = \"John\"\n",
        "  def myfunc2():\n",
        "    nonlocal x\n",
        "    x = \"Ey, soy yo\"\n",
        "  myfunc2()\n",
        "  return x\n",
        "\n",
        "print(myfunc1())"
      ],
      "metadata": {
        "id": "A9Y-mFrUz3et"
      },
      "execution_count": null,
      "outputs": []
    },
    {
      "cell_type": "markdown",
      "source": [
        "##Or: Devuelve el valor booleano true si uno o ambos operandos son true y, de lo contrario, devuelven false . Los operandos se convierten implícitamente al tipo bool antes de la evaluación y el resultado es de tipo bool . El operador OR lógico tiene asociatividad de izquierda a derecha"
      ],
      "metadata": {
        "id": "dxBd-OrG0hZd"
      }
    },
    {
      "cell_type": "code",
      "source": [
        "today = 'Domingo'\n",
        " \n",
        "if today=='Lunes':\n",
        "    print('Tu fin de semana ha terminado. Ve a trabajar')\n",
        "elif today=='Domingo' or today=='Sabado':\n",
        "    print('Sigues libre.')\n",
        "else:\n",
        "    print('Ve a trabajar.')"
      ],
      "metadata": {
        "id": "IHDANeF70kCr"
      },
      "execution_count": null,
      "outputs": []
    },
    {
      "cell_type": "markdown",
      "source": [
        "##Pass:  Es una declaración nula. El intérprete no ignora una declaración de paso, pero no sucede nada y la declaración no da como resultado ninguna operación. La instrucción pass es útil cuando no escribe la implementación de una función pero desea implementarla en el futuro."
      ],
      "metadata": {
        "id": "zh0n8yFt1Cta"
      }
    },
    {
      "cell_type": "code",
      "source": [
        "sequence = {'p', 'a', 's', 's'}\n",
        "for val in sequence:\n",
        "    pass\n",
        "print(sequence)"
      ],
      "metadata": {
        "id": "re5CSuon1PGQ"
      },
      "execution_count": null,
      "outputs": []
    },
    {
      "cell_type": "markdown",
      "source": [
        "##Raise: Para levantar una excepción de cualquier tipo, utilizamos también la sentencia raise , pero indicándole el tipo de excepción que deseamos lanzar y pasando a la excepción los parámetros con información adicional que queramos brindar. El siguiente fragmento de código muestra este uso de raise"
      ],
      "metadata": {
        "id": "2vomMFuN1od-"
      }
    },
    {
      "cell_type": "code",
      "source": [
        "class MiExcepcion(Exception):\n",
        "    pass\n",
        "try:\n",
        "    raise MiExcepcion({\"mensaje\":\"Mi Mensaje\", \"informacion\":\"Mi Informacion\"})\n",
        "except MiExcepcion as e:\n",
        "    detalles = e.args[0]\n",
        "    print(detalles)\n",
        "    print(detalles[\"mensaje\"])\n",
        "    print(detalles[\"informacion\"])"
      ],
      "metadata": {
        "id": "iOjNZ1gt1gk5"
      },
      "execution_count": null,
      "outputs": []
    },
    {
      "cell_type": "markdown",
      "source": [
        "##Return: Termina la ejecución de una función y devuelve el control a la función de llamada. La ejecución se reanuda en la función de llamada, en el punto que sigue inmediatamente a la llamada. Una instrucción return puede devolver un valor a la función de llamada."
      ],
      "metadata": {
        "id": "3xSjVg642TPn"
      }
    },
    {
      "cell_type": "code",
      "source": [
        "def calcula_media_desviacion(*args):\n",
        "    total = 0\n",
        "    for i in args:\n",
        "        total += i\n",
        "    media = total / len(args)\n",
        "    total = 0\n",
        "    for i in args:\n",
        "        total += (i - media) ** 2\n",
        "    desviacion = (total / len(args)) ** 0.5\n",
        "    return media, desviacion\n",
        "\n",
        "a, b, c, d = 3, 5, 10, 12\n",
        "media, desviacion_tipica = calcula_media_desviacion(a, b, c, d)\n",
        "print(f\"Datos: {a} {b} {c} {d}\")\n",
        "print(f\"Media: {media}\")\n",
        "print(f\"Desviación típica: {desviacion_tipica}\")\n",
        "print(\"Programa terminado\")"
      ],
      "metadata": {
        "id": "TZlxgXq72S7P"
      },
      "execution_count": null,
      "outputs": []
    },
    {
      "cell_type": "markdown",
      "source": [
        "##Try: Es el bloque con las sentencias que quieres ejecutar. Sin embargo, podrían llegar a haber errores de ejecución y el bloque se dejará de ejecutarse. El bloque except se ejecutará cuando el bloque try falle debido a un error."
      ],
      "metadata": {
        "id": "uMqguqdl3JKL"
      }
    },
    {
      "cell_type": "code",
      "source": [
        "  try:\n",
        "    res = dividir(num, div)\n",
        "    print(res)\n",
        "except ZeroDivisionError:\n",
        "    print(\"Trataste de dividir entre cero :( \")"
      ],
      "metadata": {
        "id": "RGEfBp6D3Mj9"
      },
      "execution_count": null,
      "outputs": []
    },
    {
      "cell_type": "markdown",
      "source": [
        "##While: Se usa para repetir sobre un bloque de código siempre que la expresión de prueba (condición) sea verdadera. Generalmente usamos este ciclo cuando no sabemos la cantidad de veces que toca repetir de antemano."
      ],
      "metadata": {
        "id": "qXX8Ax_z3aXb"
      }
    },
    {
      "cell_type": "code",
      "source": [
        "import random\n",
        "opciones=[\"piedra\",\"papel\",\"tijera\"]\n",
        "\n",
        "\n",
        "while True:\n",
        "    jugador=input(\"Elije entre: piedra,papel,tijera: \")\n",
        "    if jugador not in opciones:\n",
        "        print(\"\\nOpcion no valida, elije otra vez\")\n",
        "        continue\n",
        "    computadora=random.choice(opciones)\n",
        "    print(f\"\\nLa eleccion de la computadora fue: {computadora}\")\n",
        "    if jugador==computadora:\n",
        "        print(f\"\\nHa sido un empate, ambos eligieron {jugador}\")\n",
        "    elif jugador==\"piedra\" and computadora==\"tijera\":\n",
        "        print(f\"\\nHas ganado, {jugador} ganas en contra de {computadora}\")\n",
        "    elif jugador==\"tijera\" and computadora==\"papel\":\n",
        "        print(f\"\\nHas ganado, {jugador} ganas en contra de {computadora}\")\n",
        "    elif jugador==\"papel\" and computadora==\"piedra\":\n",
        "        print(f\"\\nHas ganado, {jugador} ganas en contra de {computadora}\")\n",
        "    else:\n",
        "        print(f\"Perdiste, {jugador} pierde contra {computadora} \")\n",
        "    print(\">>>>>Fin del juego<<<<<\")"
      ],
      "metadata": {
        "id": "m4610SXW3dgR"
      },
      "execution_count": null,
      "outputs": []
    },
    {
      "cell_type": "markdown",
      "source": [
        "##Whith: Se usa para ajustar la ejecución de un bloque con métodos definidos por un administrador de contexto, básicamente se establece con una configuración inicial y una finalización para recuperar los valores anteriores"
      ],
      "metadata": {
        "id": "mFM3T7Bm3ugu"
      }
    },
    {
      "cell_type": "code",
      "source": [
        "from contextlib import contextmanager\n",
        "\n",
        "def managed_file(name):\n",
        "  try:\n",
        "    f=open(name,\"w\")\n",
        "    yield f\n",
        "  finally:\n",
        "    f.close()\n",
        "\n",
        "with managed_file(\"Hola.txt\") as f:\n",
        "  f.write(\"Hola, world\")\n",
        "  f.write(\"Bye\")"
      ],
      "metadata": {
        "id": "YGLSP0pj4Cxp"
      },
      "execution_count": null,
      "outputs": []
    },
    {
      "cell_type": "markdown",
      "source": [
        "##Yield: Es una palabra clave en Python que se usa para regresar de una función sin destruir los estados de su variable local y cuando se llama a la función, la ejecución comienza desde la última declaración de rendimiento. Cualquier función que contenga una palabra clave de rendimiento se denomina generador. Por lo tanto, el rendimiento es lo que hace que un generador."
      ],
      "metadata": {
        "id": "tJooCeRe6Tcn"
      }
    },
    {
      "cell_type": "code",
      "source": [
        "def contador(max):\n",
        "    print(\"=Dentro de contador - empezando\")\n",
        "    n=0\n",
        "    while n < max:\n",
        "        print(f\"=Dentro de contador - viene yield con n={n}\")\n",
        "        yield n\n",
        "        print(\"=Dentro de contador - retomando después de yield\")\n",
        "        n=n+1\n",
        "    print(\"=Dentro de contador - terminando\")\n",
        "\n",
        "print(\"Instanciando contador\") \n",
        "mycont = contador(3)\n",
        "print(\"Contador instanciado\") \n",
        "\n",
        "for i in mycont:\n",
        "    print(f\"valor leido del iterador={i}\") \n",
        "print(\"Listo\")"
      ],
      "metadata": {
        "id": "qDjnB9ts6deY"
      },
      "execution_count": null,
      "outputs": []
    }
  ]
}